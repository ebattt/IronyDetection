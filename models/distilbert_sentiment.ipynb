{
  "nbformat": 4,
  "nbformat_minor": 0,
  "metadata": {
    "colab": {
      "provenance": []
    },
    "kernelspec": {
      "name": "python3",
      "display_name": "Python 3"
    },
    "language_info": {
      "name": "python"
    }
  },
  "cells": [
    {
      "cell_type": "markdown",
      "source": [
        "NLP PROJECT"
      ],
      "metadata": {
        "id": "k-F5mnGeHU3w"
      }
    },
    {
      "cell_type": "code",
      "source": [
        "from google.colab import files\n",
        "uploaded = files.upload()\n"
      ],
      "metadata": {
        "colab": {
          "base_uri": "https://localhost:8080/",
          "height": 73
        },
        "id": "tH8jJmSIayCt",
        "outputId": "a6d6ff3d-d5b4-456a-e534-6db425080b02"
      },
      "execution_count": 1,
      "outputs": [
        {
          "output_type": "display_data",
          "data": {
            "text/plain": [
              "<IPython.core.display.HTML object>"
            ],
            "text/html": [
              "\n",
              "     <input type=\"file\" id=\"files-db726e92-43f9-4ed7-a7b2-4754979d3e11\" name=\"files[]\" multiple disabled\n",
              "        style=\"border:none\" />\n",
              "     <output id=\"result-db726e92-43f9-4ed7-a7b2-4754979d3e11\">\n",
              "      Upload widget is only available when the cell has been executed in the\n",
              "      current browser session. Please rerun this cell to enable.\n",
              "      </output>\n",
              "      <script>// Copyright 2017 Google LLC\n",
              "//\n",
              "// Licensed under the Apache License, Version 2.0 (the \"License\");\n",
              "// you may not use this file except in compliance with the License.\n",
              "// You may obtain a copy of the License at\n",
              "//\n",
              "//      http://www.apache.org/licenses/LICENSE-2.0\n",
              "//\n",
              "// Unless required by applicable law or agreed to in writing, software\n",
              "// distributed under the License is distributed on an \"AS IS\" BASIS,\n",
              "// WITHOUT WARRANTIES OR CONDITIONS OF ANY KIND, either express or implied.\n",
              "// See the License for the specific language governing permissions and\n",
              "// limitations under the License.\n",
              "\n",
              "/**\n",
              " * @fileoverview Helpers for google.colab Python module.\n",
              " */\n",
              "(function(scope) {\n",
              "function span(text, styleAttributes = {}) {\n",
              "  const element = document.createElement('span');\n",
              "  element.textContent = text;\n",
              "  for (const key of Object.keys(styleAttributes)) {\n",
              "    element.style[key] = styleAttributes[key];\n",
              "  }\n",
              "  return element;\n",
              "}\n",
              "\n",
              "// Max number of bytes which will be uploaded at a time.\n",
              "const MAX_PAYLOAD_SIZE = 100 * 1024;\n",
              "\n",
              "function _uploadFiles(inputId, outputId) {\n",
              "  const steps = uploadFilesStep(inputId, outputId);\n",
              "  const outputElement = document.getElementById(outputId);\n",
              "  // Cache steps on the outputElement to make it available for the next call\n",
              "  // to uploadFilesContinue from Python.\n",
              "  outputElement.steps = steps;\n",
              "\n",
              "  return _uploadFilesContinue(outputId);\n",
              "}\n",
              "\n",
              "// This is roughly an async generator (not supported in the browser yet),\n",
              "// where there are multiple asynchronous steps and the Python side is going\n",
              "// to poll for completion of each step.\n",
              "// This uses a Promise to block the python side on completion of each step,\n",
              "// then passes the result of the previous step as the input to the next step.\n",
              "function _uploadFilesContinue(outputId) {\n",
              "  const outputElement = document.getElementById(outputId);\n",
              "  const steps = outputElement.steps;\n",
              "\n",
              "  const next = steps.next(outputElement.lastPromiseValue);\n",
              "  return Promise.resolve(next.value.promise).then((value) => {\n",
              "    // Cache the last promise value to make it available to the next\n",
              "    // step of the generator.\n",
              "    outputElement.lastPromiseValue = value;\n",
              "    return next.value.response;\n",
              "  });\n",
              "}\n",
              "\n",
              "/**\n",
              " * Generator function which is called between each async step of the upload\n",
              " * process.\n",
              " * @param {string} inputId Element ID of the input file picker element.\n",
              " * @param {string} outputId Element ID of the output display.\n",
              " * @return {!Iterable<!Object>} Iterable of next steps.\n",
              " */\n",
              "function* uploadFilesStep(inputId, outputId) {\n",
              "  const inputElement = document.getElementById(inputId);\n",
              "  inputElement.disabled = false;\n",
              "\n",
              "  const outputElement = document.getElementById(outputId);\n",
              "  outputElement.innerHTML = '';\n",
              "\n",
              "  const pickedPromise = new Promise((resolve) => {\n",
              "    inputElement.addEventListener('change', (e) => {\n",
              "      resolve(e.target.files);\n",
              "    });\n",
              "  });\n",
              "\n",
              "  const cancel = document.createElement('button');\n",
              "  inputElement.parentElement.appendChild(cancel);\n",
              "  cancel.textContent = 'Cancel upload';\n",
              "  const cancelPromise = new Promise((resolve) => {\n",
              "    cancel.onclick = () => {\n",
              "      resolve(null);\n",
              "    };\n",
              "  });\n",
              "\n",
              "  // Wait for the user to pick the files.\n",
              "  const files = yield {\n",
              "    promise: Promise.race([pickedPromise, cancelPromise]),\n",
              "    response: {\n",
              "      action: 'starting',\n",
              "    }\n",
              "  };\n",
              "\n",
              "  cancel.remove();\n",
              "\n",
              "  // Disable the input element since further picks are not allowed.\n",
              "  inputElement.disabled = true;\n",
              "\n",
              "  if (!files) {\n",
              "    return {\n",
              "      response: {\n",
              "        action: 'complete',\n",
              "      }\n",
              "    };\n",
              "  }\n",
              "\n",
              "  for (const file of files) {\n",
              "    const li = document.createElement('li');\n",
              "    li.append(span(file.name, {fontWeight: 'bold'}));\n",
              "    li.append(span(\n",
              "        `(${file.type || 'n/a'}) - ${file.size} bytes, ` +\n",
              "        `last modified: ${\n",
              "            file.lastModifiedDate ? file.lastModifiedDate.toLocaleDateString() :\n",
              "                                    'n/a'} - `));\n",
              "    const percent = span('0% done');\n",
              "    li.appendChild(percent);\n",
              "\n",
              "    outputElement.appendChild(li);\n",
              "\n",
              "    const fileDataPromise = new Promise((resolve) => {\n",
              "      const reader = new FileReader();\n",
              "      reader.onload = (e) => {\n",
              "        resolve(e.target.result);\n",
              "      };\n",
              "      reader.readAsArrayBuffer(file);\n",
              "    });\n",
              "    // Wait for the data to be ready.\n",
              "    let fileData = yield {\n",
              "      promise: fileDataPromise,\n",
              "      response: {\n",
              "        action: 'continue',\n",
              "      }\n",
              "    };\n",
              "\n",
              "    // Use a chunked sending to avoid message size limits. See b/62115660.\n",
              "    let position = 0;\n",
              "    do {\n",
              "      const length = Math.min(fileData.byteLength - position, MAX_PAYLOAD_SIZE);\n",
              "      const chunk = new Uint8Array(fileData, position, length);\n",
              "      position += length;\n",
              "\n",
              "      const base64 = btoa(String.fromCharCode.apply(null, chunk));\n",
              "      yield {\n",
              "        response: {\n",
              "          action: 'append',\n",
              "          file: file.name,\n",
              "          data: base64,\n",
              "        },\n",
              "      };\n",
              "\n",
              "      let percentDone = fileData.byteLength === 0 ?\n",
              "          100 :\n",
              "          Math.round((position / fileData.byteLength) * 100);\n",
              "      percent.textContent = `${percentDone}% done`;\n",
              "\n",
              "    } while (position < fileData.byteLength);\n",
              "  }\n",
              "\n",
              "  // All done.\n",
              "  yield {\n",
              "    response: {\n",
              "      action: 'complete',\n",
              "    }\n",
              "  };\n",
              "}\n",
              "\n",
              "scope.google = scope.google || {};\n",
              "scope.google.colab = scope.google.colab || {};\n",
              "scope.google.colab._files = {\n",
              "  _uploadFiles,\n",
              "  _uploadFilesContinue,\n",
              "};\n",
              "})(self);\n",
              "</script> "
            ]
          },
          "metadata": {}
        },
        {
          "output_type": "stream",
          "name": "stdout",
          "text": [
            "Saving proverbs.csv to proverbs.csv\n"
          ]
        }
      ]
    },
    {
      "cell_type": "code",
      "source": [
        "!#pip install transformers torch\n",
        "\n",
        "import pandas as pd\n",
        "import nltk\n",
        "from transformers import pipeline\n",
        "\n",
        "df = pd.read_csv('proverbs.csv')\n",
        "print(df.head())\n"
      ],
      "metadata": {
        "colab": {
          "base_uri": "https://localhost:8080/"
        },
        "id": "wAdSO3696-U2",
        "outputId": "8fb3abd9-f211-42d4-bf09-7ce5296083ab"
      },
      "execution_count": 24,
      "outputs": [
        {
          "output_type": "stream",
          "name": "stdout",
          "text": [
            "                               Proverb Language  \\\n",
            "0                  Δώσε τόπο στην οργή    Greek   \n",
            "1  Αγάλι-αγάλι γίνεται η αγουρίδα μέλι    Greek   \n",
            "2   Είπε ο γάιδαρος τον πετεινό κεφάλα    Greek   \n",
            "3     Η καλύτερη άμυνα είναι η επίθεση    Greek   \n",
            "4              Η φτήνια τρώει τον παρά    Greek   \n",
            "\n",
            "                        Literal English Translation  \\\n",
            "0                               Give place to anger   \n",
            "1  Slowly, slowly the unripe fruit turns into honey   \n",
            "2           The donkey called the rooster bigheaded   \n",
            "3                The best defence is a good offense   \n",
            "4                          Cheapness eats the money   \n",
            "\n",
            "                                             Meaning Irony (Yes/No)  \n",
            "0  Control or suppress your anger and avoid actin...            Yes  \n",
            "1  Good things take time, and with patience, some...             No  \n",
            "2  Someone is criticizing another for a flaw that...            Yes  \n",
            "3  Taking proactive, aggressive action is often t...            Yes  \n",
            "4  Cheap options can end up costing more in the l...             No  \n"
          ]
        }
      ]
    },
    {
      "source": [
        "\n",
        "# Drop rows with missing values in the specified columns\n",
        "df = df.dropna(subset=['Literal English Translation', 'Meaning'])\n",
        "\n",
        "from nltk.corpus import stopwords\n",
        "import string\n",
        "nltk.download('punkt')\n",
        "nltk.download('stopwords')\n",
        "nltk.download('punkt_tab')\n",
        "\n",
        "stop_words = set(stopwords.words('english'))\n",
        "\n",
        "def preprocess(text):\n",
        "    text = text.lower()\n",
        "    tokens = nltk.word_tokenize(text)\n",
        "    tokens = [word for word in tokens if word not in stop_words and word not in string.punctuation]\n",
        "    return ' '.join(tokens)\n",
        "\n",
        "# Apply preprocessing\n",
        "df['Literal English Translation'] = df['Literal English Translation'].apply(preprocess)\n",
        "df['Meaning'] = df['Meaning'].apply(preprocess)\n",
        "\n",
        "\n"
      ],
      "cell_type": "code",
      "metadata": {
        "id": "7jjlqupiPzrR",
        "outputId": "7680ea81-41cc-421a-f973-043edb885992",
        "colab": {
          "base_uri": "https://localhost:8080/"
        }
      },
      "execution_count": 25,
      "outputs": [
        {
          "output_type": "stream",
          "name": "stderr",
          "text": [
            "[nltk_data] Downloading package punkt to /root/nltk_data...\n",
            "[nltk_data]   Package punkt is already up-to-date!\n",
            "[nltk_data] Downloading package stopwords to /root/nltk_data...\n",
            "[nltk_data]   Package stopwords is already up-to-date!\n",
            "[nltk_data] Downloading package punkt_tab to /root/nltk_data...\n",
            "[nltk_data]   Package punkt_tab is already up-to-date!\n"
          ]
        }
      ]
    },
    {
      "cell_type": "code",
      "source": [
        "# Initialize sentiment analysis pipeline using a pre-trained transformer model\n",
        "sentiment_pipeline = pipeline(\"sentiment-analysis\", model=\"distilbert-base-uncased-finetuned-sst-2-english\")\n",
        "\n",
        "def get_sentiment(text):\n",
        "    result = sentiment_pipeline(text)[0]\n",
        "    # Convert the label to a sentiment score similar to compound score\n",
        "    score = result['score'] if result['label'] == 'POSITIVE' else -result['score']\n",
        "    return score\n",
        "\n",
        "# Apply sentiment analysis using the transformer model\n",
        "df['literal_sentiment'] = df['Literal English Translation'].apply(lambda x: get_sentiment(x))\n",
        "df['meaning_sentiment'] = df['Meaning'].apply(lambda x: get_sentiment(x))\n",
        "\n",
        "print(df[['Literal English Translation', 'literal_sentiment', 'Meaning', 'meaning_sentiment']])\n",
        "\n"
      ],
      "metadata": {
        "colab": {
          "base_uri": "https://localhost:8080/"
        },
        "id": "A2-chAgwTX25",
        "outputId": "5fe719ef-6346-4111-9feb-0f78c822f9de"
      },
      "execution_count": 26,
      "outputs": [
        {
          "output_type": "stream",
          "name": "stdout",
          "text": [
            "               Literal English Translation  literal_sentiment  \\\n",
            "0                         give place anger          -0.984260   \n",
            "1   slowly slowly unripe fruit turns honey          -0.592936   \n",
            "2          donkey called rooster bigheaded          -0.981749   \n",
            "3                best defence good offense           0.999724   \n",
            "4                     cheapness eats money          -0.998331   \n",
            "..                                     ...                ...   \n",
            "91                                   green           0.993437   \n",
            "92                              wash hands          -0.988124   \n",
            "93                             put dots 's           0.853201   \n",
            "94                     either works breaks          -0.817360   \n",
            "95                  ’ discovered hot water           0.990440   \n",
            "\n",
            "                                              Meaning  meaning_sentiment  \n",
            "0     control suppress anger avoid acting impulsively           0.993691  \n",
            "1   good things take time patience something seems...           0.992571  \n",
            "2            someone criticizing another flaw possess          -0.988330  \n",
            "3   taking proactive aggressive action often best ...           0.882297  \n",
            "4                  cheap options end costing long run          -0.999523  \n",
            "..                                                ...                ...  \n",
            "91                                               poor          -0.999791  \n",
            "92                                take responsibility           0.998021  \n",
            "93                                            precise           0.999786  \n",
            "94                                          ’ nothing          -0.999270  \n",
            "95                      ’ made discovery ’ impressive           0.999881  \n",
            "\n",
            "[96 rows x 4 columns]\n"
          ]
        }
      ]
    },
    {
      "cell_type": "code",
      "source": [
        "threshold = 0.05\n",
        "\n",
        "# Calculate the sentiment difference and classify irony\n",
        "df['sentiment_diff'] = abs(df['literal_sentiment'] - df['meaning_sentiment'])\n",
        "#df['sentiment_diff'] = abs(abs(df['literal_sentiment']) - abs(df['meaning_sentiment']))\n",
        "df['predicted_irony'] = df['sentiment_diff'].apply(lambda x: 'Ironic' if x > threshold else 'Not Ironic')\n",
        "\n",
        "print(df[['Literal English Translation', 'literal_sentiment', 'Meaning', 'meaning_sentiment', 'predicted_irony']].head())\n",
        "\n",
        "df['Irony (Yes/No)'] = df['Irony (Yes/No)'].astype(str).str.lower().map({'yes': 1, 'no': 0})\n",
        "#3 of the greek ones result in Nan for Irony, dont know why - just drop those 3\n",
        "df = df.dropna(subset=['Irony (Yes/No)'])\n",
        "\n",
        "# Convert 'predicted_irony' to numeric values\n",
        "df['predicted_irony'] = df['predicted_irony'].map({'Ironic': 1, 'Not Ironic': 0})\n",
        "\n",
        "from sklearn.metrics import accuracy_score\n",
        "accuracy = accuracy_score(df['Irony (Yes/No)'], df['predicted_irony'])\n",
        "\n",
        "print(f'Accuracy: {accuracy}')"
      ],
      "metadata": {
        "colab": {
          "base_uri": "https://localhost:8080/"
        },
        "id": "CWdiv1eUTiD_",
        "outputId": "cf009c0e-b614-4c82-c304-333174a01d8b"
      },
      "execution_count": 27,
      "outputs": [
        {
          "output_type": "stream",
          "name": "stdout",
          "text": [
            "              Literal English Translation  literal_sentiment  \\\n",
            "0                        give place anger          -0.984260   \n",
            "1  slowly slowly unripe fruit turns honey          -0.592936   \n",
            "2         donkey called rooster bigheaded          -0.981749   \n",
            "3               best defence good offense           0.999724   \n",
            "4                    cheapness eats money          -0.998331   \n",
            "\n",
            "                                             Meaning  meaning_sentiment  \\\n",
            "0    control suppress anger avoid acting impulsively           0.993691   \n",
            "1  good things take time patience something seems...           0.992571   \n",
            "2           someone criticizing another flaw possess          -0.988330   \n",
            "3  taking proactive aggressive action often best ...           0.882297   \n",
            "4                 cheap options end costing long run          -0.999523   \n",
            "\n",
            "  predicted_irony  \n",
            "0          Ironic  \n",
            "1          Ironic  \n",
            "2      Not Ironic  \n",
            "3          Ironic  \n",
            "4      Not Ironic  \n",
            "Accuracy: 0.5729166666666666\n"
          ]
        }
      ]
    },
    {
      "cell_type": "code",
      "source": [
        "from sklearn.metrics import confusion_matrix\n",
        "\n",
        "# Assuming 'Irony (Yes/No)' is the true label and 'predicted_irony' is the prediction\n",
        "conf_matrix = confusion_matrix(df['Irony (Yes/No)'], df['predicted_irony'])\n",
        "print(conf_matrix)\n"
      ],
      "metadata": {
        "id": "8UuxbDsiaStD",
        "colab": {
          "base_uri": "https://localhost:8080/"
        },
        "outputId": "20a44390-db43-494b-b293-7367f07cf1fb"
      },
      "execution_count": 28,
      "outputs": [
        {
          "output_type": "stream",
          "name": "stdout",
          "text": [
            "[[18 24]\n",
            " [17 37]]\n"
          ]
        }
      ]
    },
    {
      "cell_type": "code",
      "source": [
        "tn, fp, fn, tp = conf_matrix.ravel()  # Extract values from confusion matrix\n",
        "specificity = tn / (tn + fp)\n",
        "print(f\"Specificity: {specificity}\")"
      ],
      "metadata": {
        "colab": {
          "base_uri": "https://localhost:8080/"
        },
        "id": "ApmUGpsrnn4w",
        "outputId": "84e5da9d-3c63-4702-8d3e-8b57f554d43c"
      },
      "execution_count": 29,
      "outputs": [
        {
          "output_type": "stream",
          "name": "stdout",
          "text": [
            "Specificity: 0.42857142857142855\n"
          ]
        }
      ]
    },
    {
      "cell_type": "code",
      "source": [
        "from sklearn.metrics import classification_report, confusion_matrix\n",
        "\n",
        "# Get the classification report as a dictionary\n",
        "report = classification_report(df['Irony (Yes/No)'], df['predicted_irony'], output_dict=True)\n",
        "\n",
        "# Calculate confusion matrix\n",
        "conf_matrix = confusion_matrix(df['Irony (Yes/No)'], df['predicted_irony'])\n",
        "tn, fp, fn, tp = conf_matrix.ravel()\n",
        "\n",
        "# Extract metrics\n",
        "precision = report['1']['precision']  # Precision for Ironic class\n",
        "recall = report['1']['recall']  # Recall for Ironic class (Sensitivity)\n",
        "specificity = tn / (tn + fp)  # Specificity (True Negative Rate)\n",
        "accuracy = report['accuracy']  # Overall accuracy\n",
        "\n",
        "# Print the metrics\n",
        "# precision: Out of all the proverbs the model predicted as ironic, what proportion was actually ironic?\n",
        "print(f\"Precision: {precision:.4f}\")\n",
        "#recall/sensitivity: Out of all the proverbs that were actually ironic, what proportion did the model correctly identify as ironic?\n",
        "print(f\"Recall (Sensitivity): {recall:.4f}\")\n",
        "#specifity: Out of all the proverbs that were actually not ironic, what proportion did the model correctly identify as not ironic?\n",
        "print(f\"Specificity: {specificity:.4f}\")\n",
        "print(f\"Accuracy: {accuracy:.4f}\")\n",
        "\n",
        "# Print the overall report for reference\n",
        "print(classification_report(df['Irony (Yes/No)'], df['predicted_irony']))"
      ],
      "metadata": {
        "colab": {
          "base_uri": "https://localhost:8080/"
        },
        "id": "oRYClpqynu7c",
        "outputId": "11af8489-df94-4043-d828-bf0e54e6ba12"
      },
      "execution_count": 30,
      "outputs": [
        {
          "output_type": "stream",
          "name": "stdout",
          "text": [
            "Precision: 0.6066\n",
            "Recall (Sensitivity): 0.6852\n",
            "Specificity: 0.4286\n",
            "Accuracy: 0.5729\n",
            "              precision    recall  f1-score   support\n",
            "\n",
            "           0       0.51      0.43      0.47        42\n",
            "           1       0.61      0.69      0.64        54\n",
            "\n",
            "    accuracy                           0.57        96\n",
            "   macro avg       0.56      0.56      0.56        96\n",
            "weighted avg       0.57      0.57      0.57        96\n",
            "\n"
          ]
        }
      ]
    }
  ]
}