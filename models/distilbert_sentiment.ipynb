{
  "cells": [
    {
      "cell_type": "markdown",
      "metadata": {
        "id": "k-F5mnGeHU3w"
      },
      "source": [
        "NLP PROJECT"
      ]
    },
    {
      "cell_type": "code",
      "execution_count": 1,
      "metadata": {
        "colab": {
          "base_uri": "https://localhost:8080/",
          "height": 73
        },
        "id": "tH8jJmSIayCt",
        "outputId": "a6d6ff3d-d5b4-456a-e534-6db425080b02"
      },
      "outputs": [
        {
          "name": "stdout",
          "output_type": "stream",
          "text": [
            "Requirement already satisfied: pandas>=1.3.0 in /Users/giorgosdaskalopoulos/Documents/MsC/3rd Semester/NLP Seminar/IronyDetection/.venv/lib/python3.12/site-packages (from -r ../requirements.txt (line 1)) (2.2.3)\n",
            "Requirement already satisfied: numpy>=1.20.0 in /Users/giorgosdaskalopoulos/Documents/MsC/3rd Semester/NLP Seminar/IronyDetection/.venv/lib/python3.12/site-packages (from -r ../requirements.txt (line 2)) (2.1.3)\n",
            "Requirement already satisfied: nltk>=3.6.0 in /Users/giorgosdaskalopoulos/Documents/MsC/3rd Semester/NLP Seminar/IronyDetection/.venv/lib/python3.12/site-packages (from -r ../requirements.txt (line 3)) (3.9.1)\n",
            "Requirement already satisfied: torch>=1.10.0 in /Users/giorgosdaskalopoulos/Documents/MsC/3rd Semester/NLP Seminar/IronyDetection/.venv/lib/python3.12/site-packages (from -r ../requirements.txt (line 4)) (2.5.1)\n",
            "Requirement already satisfied: transformers>=4.0.0 in /Users/giorgosdaskalopoulos/Documents/MsC/3rd Semester/NLP Seminar/IronyDetection/.venv/lib/python3.12/site-packages (from -r ../requirements.txt (line 5)) (4.46.2)\n",
            "Requirement already satisfied: scikit-learn>=0.24.0 in /Users/giorgosdaskalopoulos/Documents/MsC/3rd Semester/NLP Seminar/IronyDetection/.venv/lib/python3.12/site-packages (from -r ../requirements.txt (line 6)) (1.5.2)\n",
            "Requirement already satisfied: matplotlib>=3.4.0 in /Users/giorgosdaskalopoulos/Documents/MsC/3rd Semester/NLP Seminar/IronyDetection/.venv/lib/python3.12/site-packages (from -r ../requirements.txt (line 7)) (3.9.2)\n",
            "Requirement already satisfied: python-dateutil>=2.8.2 in /Users/giorgosdaskalopoulos/Documents/MsC/3rd Semester/NLP Seminar/IronyDetection/.venv/lib/python3.12/site-packages (from pandas>=1.3.0->-r ../requirements.txt (line 1)) (2.9.0.post0)\n",
            "Requirement already satisfied: pytz>=2020.1 in /Users/giorgosdaskalopoulos/Documents/MsC/3rd Semester/NLP Seminar/IronyDetection/.venv/lib/python3.12/site-packages (from pandas>=1.3.0->-r ../requirements.txt (line 1)) (2024.2)\n",
            "Requirement already satisfied: tzdata>=2022.7 in /Users/giorgosdaskalopoulos/Documents/MsC/3rd Semester/NLP Seminar/IronyDetection/.venv/lib/python3.12/site-packages (from pandas>=1.3.0->-r ../requirements.txt (line 1)) (2024.2)\n",
            "Requirement already satisfied: click in /Users/giorgosdaskalopoulos/Documents/MsC/3rd Semester/NLP Seminar/IronyDetection/.venv/lib/python3.12/site-packages (from nltk>=3.6.0->-r ../requirements.txt (line 3)) (8.1.7)\n",
            "Requirement already satisfied: joblib in /Users/giorgosdaskalopoulos/Documents/MsC/3rd Semester/NLP Seminar/IronyDetection/.venv/lib/python3.12/site-packages (from nltk>=3.6.0->-r ../requirements.txt (line 3)) (1.4.2)\n",
            "Requirement already satisfied: regex>=2021.8.3 in /Users/giorgosdaskalopoulos/Documents/MsC/3rd Semester/NLP Seminar/IronyDetection/.venv/lib/python3.12/site-packages (from nltk>=3.6.0->-r ../requirements.txt (line 3)) (2024.11.6)\n",
            "Requirement already satisfied: tqdm in /Users/giorgosdaskalopoulos/Documents/MsC/3rd Semester/NLP Seminar/IronyDetection/.venv/lib/python3.12/site-packages (from nltk>=3.6.0->-r ../requirements.txt (line 3)) (4.67.0)\n",
            "Requirement already satisfied: filelock in /Users/giorgosdaskalopoulos/Documents/MsC/3rd Semester/NLP Seminar/IronyDetection/.venv/lib/python3.12/site-packages (from torch>=1.10.0->-r ../requirements.txt (line 4)) (3.16.1)\n",
            "Requirement already satisfied: typing-extensions>=4.8.0 in /Users/giorgosdaskalopoulos/Documents/MsC/3rd Semester/NLP Seminar/IronyDetection/.venv/lib/python3.12/site-packages (from torch>=1.10.0->-r ../requirements.txt (line 4)) (4.12.2)\n",
            "Requirement already satisfied: networkx in /Users/giorgosdaskalopoulos/Documents/MsC/3rd Semester/NLP Seminar/IronyDetection/.venv/lib/python3.12/site-packages (from torch>=1.10.0->-r ../requirements.txt (line 4)) (3.4.2)\n",
            "Requirement already satisfied: jinja2 in /Users/giorgosdaskalopoulos/Documents/MsC/3rd Semester/NLP Seminar/IronyDetection/.venv/lib/python3.12/site-packages (from torch>=1.10.0->-r ../requirements.txt (line 4)) (3.1.4)\n",
            "Requirement already satisfied: fsspec in /Users/giorgosdaskalopoulos/Documents/MsC/3rd Semester/NLP Seminar/IronyDetection/.venv/lib/python3.12/site-packages (from torch>=1.10.0->-r ../requirements.txt (line 4)) (2024.10.0)\n",
            "Requirement already satisfied: setuptools in /Users/giorgosdaskalopoulos/Documents/MsC/3rd Semester/NLP Seminar/IronyDetection/.venv/lib/python3.12/site-packages (from torch>=1.10.0->-r ../requirements.txt (line 4)) (75.5.0)\n",
            "Requirement already satisfied: sympy==1.13.1 in /Users/giorgosdaskalopoulos/Documents/MsC/3rd Semester/NLP Seminar/IronyDetection/.venv/lib/python3.12/site-packages (from torch>=1.10.0->-r ../requirements.txt (line 4)) (1.13.1)\n",
            "Requirement already satisfied: mpmath<1.4,>=1.1.0 in /Users/giorgosdaskalopoulos/Documents/MsC/3rd Semester/NLP Seminar/IronyDetection/.venv/lib/python3.12/site-packages (from sympy==1.13.1->torch>=1.10.0->-r ../requirements.txt (line 4)) (1.3.0)\n",
            "Requirement already satisfied: huggingface-hub<1.0,>=0.23.2 in /Users/giorgosdaskalopoulos/Documents/MsC/3rd Semester/NLP Seminar/IronyDetection/.venv/lib/python3.12/site-packages (from transformers>=4.0.0->-r ../requirements.txt (line 5)) (0.26.2)\n",
            "Requirement already satisfied: packaging>=20.0 in /Users/giorgosdaskalopoulos/Documents/MsC/3rd Semester/NLP Seminar/IronyDetection/.venv/lib/python3.12/site-packages (from transformers>=4.0.0->-r ../requirements.txt (line 5)) (24.2)\n",
            "Requirement already satisfied: pyyaml>=5.1 in /Users/giorgosdaskalopoulos/Documents/MsC/3rd Semester/NLP Seminar/IronyDetection/.venv/lib/python3.12/site-packages (from transformers>=4.0.0->-r ../requirements.txt (line 5)) (6.0.2)\n",
            "Requirement already satisfied: requests in /Users/giorgosdaskalopoulos/Documents/MsC/3rd Semester/NLP Seminar/IronyDetection/.venv/lib/python3.12/site-packages (from transformers>=4.0.0->-r ../requirements.txt (line 5)) (2.32.3)\n",
            "Requirement already satisfied: safetensors>=0.4.1 in /Users/giorgosdaskalopoulos/Documents/MsC/3rd Semester/NLP Seminar/IronyDetection/.venv/lib/python3.12/site-packages (from transformers>=4.0.0->-r ../requirements.txt (line 5)) (0.4.5)\n",
            "Requirement already satisfied: tokenizers<0.21,>=0.20 in /Users/giorgosdaskalopoulos/Documents/MsC/3rd Semester/NLP Seminar/IronyDetection/.venv/lib/python3.12/site-packages (from transformers>=4.0.0->-r ../requirements.txt (line 5)) (0.20.3)\n",
            "Requirement already satisfied: scipy>=1.6.0 in /Users/giorgosdaskalopoulos/Documents/MsC/3rd Semester/NLP Seminar/IronyDetection/.venv/lib/python3.12/site-packages (from scikit-learn>=0.24.0->-r ../requirements.txt (line 6)) (1.14.1)\n",
            "Requirement already satisfied: threadpoolctl>=3.1.0 in /Users/giorgosdaskalopoulos/Documents/MsC/3rd Semester/NLP Seminar/IronyDetection/.venv/lib/python3.12/site-packages (from scikit-learn>=0.24.0->-r ../requirements.txt (line 6)) (3.5.0)\n",
            "Requirement already satisfied: contourpy>=1.0.1 in /Users/giorgosdaskalopoulos/Documents/MsC/3rd Semester/NLP Seminar/IronyDetection/.venv/lib/python3.12/site-packages (from matplotlib>=3.4.0->-r ../requirements.txt (line 7)) (1.3.1)\n",
            "Requirement already satisfied: cycler>=0.10 in /Users/giorgosdaskalopoulos/Documents/MsC/3rd Semester/NLP Seminar/IronyDetection/.venv/lib/python3.12/site-packages (from matplotlib>=3.4.0->-r ../requirements.txt (line 7)) (0.12.1)\n",
            "Requirement already satisfied: fonttools>=4.22.0 in /Users/giorgosdaskalopoulos/Documents/MsC/3rd Semester/NLP Seminar/IronyDetection/.venv/lib/python3.12/site-packages (from matplotlib>=3.4.0->-r ../requirements.txt (line 7)) (4.55.0)\n",
            "Requirement already satisfied: kiwisolver>=1.3.1 in /Users/giorgosdaskalopoulos/Documents/MsC/3rd Semester/NLP Seminar/IronyDetection/.venv/lib/python3.12/site-packages (from matplotlib>=3.4.0->-r ../requirements.txt (line 7)) (1.4.7)\n",
            "Requirement already satisfied: pillow>=8 in /Users/giorgosdaskalopoulos/Documents/MsC/3rd Semester/NLP Seminar/IronyDetection/.venv/lib/python3.12/site-packages (from matplotlib>=3.4.0->-r ../requirements.txt (line 7)) (11.0.0)\n",
            "Requirement already satisfied: pyparsing>=2.3.1 in /Users/giorgosdaskalopoulos/Documents/MsC/3rd Semester/NLP Seminar/IronyDetection/.venv/lib/python3.12/site-packages (from matplotlib>=3.4.0->-r ../requirements.txt (line 7)) (3.2.0)\n",
            "Requirement already satisfied: six>=1.5 in /Users/giorgosdaskalopoulos/Documents/MsC/3rd Semester/NLP Seminar/IronyDetection/.venv/lib/python3.12/site-packages (from python-dateutil>=2.8.2->pandas>=1.3.0->-r ../requirements.txt (line 1)) (1.16.0)\n",
            "Requirement already satisfied: MarkupSafe>=2.0 in /Users/giorgosdaskalopoulos/Documents/MsC/3rd Semester/NLP Seminar/IronyDetection/.venv/lib/python3.12/site-packages (from jinja2->torch>=1.10.0->-r ../requirements.txt (line 4)) (3.0.2)\n",
            "Requirement already satisfied: charset-normalizer<4,>=2 in /Users/giorgosdaskalopoulos/Documents/MsC/3rd Semester/NLP Seminar/IronyDetection/.venv/lib/python3.12/site-packages (from requests->transformers>=4.0.0->-r ../requirements.txt (line 5)) (3.4.0)\n",
            "Requirement already satisfied: idna<4,>=2.5 in /Users/giorgosdaskalopoulos/Documents/MsC/3rd Semester/NLP Seminar/IronyDetection/.venv/lib/python3.12/site-packages (from requests->transformers>=4.0.0->-r ../requirements.txt (line 5)) (3.10)\n",
            "Requirement already satisfied: urllib3<3,>=1.21.1 in /Users/giorgosdaskalopoulos/Documents/MsC/3rd Semester/NLP Seminar/IronyDetection/.venv/lib/python3.12/site-packages (from requests->transformers>=4.0.0->-r ../requirements.txt (line 5)) (2.2.3)\n",
            "Requirement already satisfied: certifi>=2017.4.17 in /Users/giorgosdaskalopoulos/Documents/MsC/3rd Semester/NLP Seminar/IronyDetection/.venv/lib/python3.12/site-packages (from requests->transformers>=4.0.0->-r ../requirements.txt (line 5)) (2024.8.30)\n",
            "Note: you may need to restart the kernel to use updated packages.\n"
          ]
        }
      ],
      "source": [
        "#Set up the environment\n",
        "%pip install -r ../requirements.txt\n",
        "\n",
        "#Use only if you are using Google Colab\n",
        "#from google.colab import files\n",
        "#uploaded = files.upload()\n"
      ]
    },
    {
      "cell_type": "code",
      "execution_count": 3,
      "metadata": {
        "colab": {
          "base_uri": "https://localhost:8080/"
        },
        "id": "wAdSO3696-U2",
        "outputId": "8fb3abd9-f211-42d4-bf09-7ce5296083ab"
      },
      "outputs": [
        {
          "name": "stdout",
          "output_type": "stream",
          "text": [
            "                               Proverb Language  \\\n",
            "0                  Δώσε τόπο στην οργή    Greek   \n",
            "1  Αγάλι-αγάλι γίνεται η αγουρίδα μέλι    Greek   \n",
            "2   Είπε ο γάιδαρος τον πετεινό κεφάλα    Greek   \n",
            "3     Η καλύτερη άμυνα είναι η επίθεση    Greek   \n",
            "4              Η φτήνια τρώει τον παρά    Greek   \n",
            "\n",
            "                        Literal English Translation  \\\n",
            "0                               Give place to anger   \n",
            "1  Slowly, slowly the unripe fruit turns into honey   \n",
            "2           The donkey called the rooster bigheaded   \n",
            "3                The best defence is a good offense   \n",
            "4                          Cheapness eats the money   \n",
            "\n",
            "                                             Meaning Irony (Yes/No)  \n",
            "0  Control or suppress your anger and avoid actin...            Yes  \n",
            "1  Good things take time, and with patience, some...             No  \n",
            "2  Someone is criticizing another for a flaw that...            Yes  \n",
            "3  Taking proactive, aggressive action is often t...            Yes  \n",
            "4  Cheap options can end up costing more in the l...             No  \n"
          ]
        }
      ],
      "source": [
        "!#pip install transformers torch\n",
        "\n",
        "import pandas as pd\n",
        "import nltk\n",
        "from transformers import pipeline\n",
        "\n",
        "df = pd.read_csv('../data/proverbs.csv')\n",
        "print(df.head())\n"
      ]
    },
    {
      "cell_type": "code",
      "execution_count": 4,
      "metadata": {
        "colab": {
          "base_uri": "https://localhost:8080/"
        },
        "id": "7jjlqupiPzrR",
        "outputId": "7680ea81-41cc-421a-f973-043edb885992"
      },
      "outputs": [
        {
          "name": "stderr",
          "output_type": "stream",
          "text": [
            "[nltk_data] Downloading package punkt to\n",
            "[nltk_data]     /Users/giorgosdaskalopoulos/nltk_data...\n",
            "[nltk_data]   Package punkt is already up-to-date!\n",
            "[nltk_data] Downloading package stopwords to\n",
            "[nltk_data]     /Users/giorgosdaskalopoulos/nltk_data...\n",
            "[nltk_data]   Package stopwords is already up-to-date!\n",
            "[nltk_data] Downloading package punkt_tab to\n",
            "[nltk_data]     /Users/giorgosdaskalopoulos/nltk_data...\n",
            "[nltk_data]   Package punkt_tab is already up-to-date!\n"
          ]
        }
      ],
      "source": [
        "\n",
        "# Drop rows with missing values in the specified columns\n",
        "df = df.dropna(subset=['Literal English Translation', 'Meaning'])\n",
        "\n",
        "from nltk.corpus import stopwords\n",
        "import string\n",
        "nltk.download('punkt')\n",
        "nltk.download('stopwords')\n",
        "nltk.download('punkt_tab')\n",
        "\n",
        "stop_words = set(stopwords.words('english'))\n",
        "\n",
        "def preprocess(text):\n",
        "    text = text.lower()\n",
        "    tokens = nltk.word_tokenize(text)\n",
        "    tokens = [word for word in tokens if word not in stop_words and word not in string.punctuation]\n",
        "    return ' '.join(tokens)\n",
        "\n",
        "# Apply preprocessing\n",
        "df['Literal English Translation'] = df['Literal English Translation'].apply(preprocess)\n",
        "df['Meaning'] = df['Meaning'].apply(preprocess)\n",
        "\n",
        "\n"
      ]
    },
    {
      "cell_type": "code",
      "execution_count": 5,
      "metadata": {
        "colab": {
          "base_uri": "https://localhost:8080/"
        },
        "id": "A2-chAgwTX25",
        "outputId": "5fe719ef-6346-4111-9feb-0f78c822f9de"
      },
      "outputs": [
        {
          "name": "stdout",
          "output_type": "stream",
          "text": [
            "               Literal English Translation  literal_sentiment  \\\n",
            "0                         give place anger          -0.984260   \n",
            "1   slowly slowly unripe fruit turns honey          -0.592939   \n",
            "2          donkey called rooster bigheaded          -0.981749   \n",
            "3                best defence good offense           0.999724   \n",
            "4                     cheapness eats money          -0.998331   \n",
            "..                                     ...                ...   \n",
            "91                                   green           0.993437   \n",
            "92                              wash hands          -0.988124   \n",
            "93                             put dots 's           0.853201   \n",
            "94                     either works breaks          -0.817359   \n",
            "95                  ’ discovered hot water           0.990440   \n",
            "\n",
            "                                              Meaning  meaning_sentiment  \n",
            "0     control suppress anger avoid acting impulsively           0.993691  \n",
            "1   good things take time patience something seems...           0.992571  \n",
            "2            someone criticizing another flaw possess          -0.988330  \n",
            "3   taking proactive aggressive action often best ...           0.882297  \n",
            "4                  cheap options end costing long run          -0.999523  \n",
            "..                                                ...                ...  \n",
            "91                                               poor          -0.999791  \n",
            "92                                take responsibility           0.998021  \n",
            "93                                            precise           0.999786  \n",
            "94                                          ’ nothing          -0.999270  \n",
            "95                      ’ made discovery ’ impressive           0.999881  \n",
            "\n",
            "[96 rows x 4 columns]\n"
          ]
        }
      ],
      "source": [
        "# Initialize sentiment analysis pipeline using a pre-trained transformer model\n",
        "sentiment_pipeline = pipeline(\"sentiment-analysis\", model=\"distilbert-base-uncased-finetuned-sst-2-english\")\n",
        "\n",
        "def get_sentiment(text):\n",
        "    result = sentiment_pipeline(text)[0]\n",
        "    # Convert the label to a sentiment score similar to compound score\n",
        "    score = result['score'] if result['label'] == 'POSITIVE' else -result['score']\n",
        "    return score\n",
        "\n",
        "# Apply sentiment analysis using the transformer model\n",
        "df['literal_sentiment'] = df['Literal English Translation'].apply(lambda x: get_sentiment(x))\n",
        "df['meaning_sentiment'] = df['Meaning'].apply(lambda x: get_sentiment(x))\n",
        "\n",
        "print(df[['Literal English Translation', 'literal_sentiment', 'Meaning', 'meaning_sentiment']])\n",
        "\n"
      ]
    },
    {
      "cell_type": "code",
      "execution_count": 6,
      "metadata": {
        "colab": {
          "base_uri": "https://localhost:8080/"
        },
        "id": "CWdiv1eUTiD_",
        "outputId": "cf009c0e-b614-4c82-c304-333174a01d8b"
      },
      "outputs": [
        {
          "name": "stdout",
          "output_type": "stream",
          "text": [
            "              Literal English Translation  literal_sentiment  \\\n",
            "0                        give place anger          -0.984260   \n",
            "1  slowly slowly unripe fruit turns honey          -0.592939   \n",
            "2         donkey called rooster bigheaded          -0.981749   \n",
            "3               best defence good offense           0.999724   \n",
            "4                    cheapness eats money          -0.998331   \n",
            "\n",
            "                                             Meaning  meaning_sentiment  \\\n",
            "0    control suppress anger avoid acting impulsively           0.993691   \n",
            "1  good things take time patience something seems...           0.992571   \n",
            "2           someone criticizing another flaw possess          -0.988330   \n",
            "3  taking proactive aggressive action often best ...           0.882297   \n",
            "4                 cheap options end costing long run          -0.999523   \n",
            "\n",
            "  predicted_irony  \n",
            "0          Ironic  \n",
            "1          Ironic  \n",
            "2      Not Ironic  \n",
            "3          Ironic  \n",
            "4      Not Ironic  \n",
            "Accuracy: 0.5729166666666666\n"
          ]
        }
      ],
      "source": [
        "threshold = 0.05\n",
        "\n",
        "# Calculate the sentiment difference and classify irony\n",
        "df['sentiment_diff'] = abs(df['literal_sentiment'] - df['meaning_sentiment'])\n",
        "#df['sentiment_diff'] = abs(abs(df['literal_sentiment']) - abs(df['meaning_sentiment']))\n",
        "df['predicted_irony'] = df['sentiment_diff'].apply(lambda x: 'Ironic' if x > threshold else 'Not Ironic')\n",
        "\n",
        "print(df[['Literal English Translation', 'literal_sentiment', 'Meaning', 'meaning_sentiment', 'predicted_irony']].head())\n",
        "\n",
        "df['Irony (Yes/No)'] = df['Irony (Yes/No)'].astype(str).str.lower().map({'yes': 1, 'no': 0})\n",
        "#3 of the greek ones result in Nan for Irony, dont know why - just drop those 3\n",
        "df = df.dropna(subset=['Irony (Yes/No)'])\n",
        "\n",
        "# Convert 'predicted_irony' to numeric values\n",
        "df['predicted_irony'] = df['predicted_irony'].map({'Ironic': 1, 'Not Ironic': 0})\n",
        "\n",
        "from sklearn.metrics import accuracy_score\n",
        "accuracy = accuracy_score(df['Irony (Yes/No)'], df['predicted_irony'])\n",
        "\n",
        "print(f'Accuracy: {accuracy}')"
      ]
    },
    {
      "cell_type": "code",
      "execution_count": 7,
      "metadata": {
        "colab": {
          "base_uri": "https://localhost:8080/"
        },
        "id": "8UuxbDsiaStD",
        "outputId": "20a44390-db43-494b-b293-7367f07cf1fb"
      },
      "outputs": [
        {
          "name": "stdout",
          "output_type": "stream",
          "text": [
            "[[18 24]\n",
            " [17 37]]\n"
          ]
        }
      ],
      "source": [
        "from sklearn.metrics import confusion_matrix\n",
        "\n",
        "# Assuming 'Irony (Yes/No)' is the true label and 'predicted_irony' is the prediction\n",
        "conf_matrix = confusion_matrix(df['Irony (Yes/No)'], df['predicted_irony'])\n",
        "print(conf_matrix)\n"
      ]
    },
    {
      "cell_type": "code",
      "execution_count": 8,
      "metadata": {
        "colab": {
          "base_uri": "https://localhost:8080/"
        },
        "id": "ApmUGpsrnn4w",
        "outputId": "84e5da9d-3c63-4702-8d3e-8b57f554d43c"
      },
      "outputs": [
        {
          "name": "stdout",
          "output_type": "stream",
          "text": [
            "Specificity: 0.42857142857142855\n"
          ]
        }
      ],
      "source": [
        "tn, fp, fn, tp = conf_matrix.ravel()  # Extract values from confusion matrix\n",
        "specificity = tn / (tn + fp)\n",
        "print(f\"Specificity: {specificity}\")"
      ]
    },
    {
      "cell_type": "code",
      "execution_count": 9,
      "metadata": {
        "colab": {
          "base_uri": "https://localhost:8080/"
        },
        "id": "oRYClpqynu7c",
        "outputId": "11af8489-df94-4043-d828-bf0e54e6ba12"
      },
      "outputs": [
        {
          "name": "stdout",
          "output_type": "stream",
          "text": [
            "Precision: 0.6066\n",
            "Recall (Sensitivity): 0.6852\n",
            "Specificity: 0.4286\n",
            "Accuracy: 0.5729\n",
            "              precision    recall  f1-score   support\n",
            "\n",
            "           0       0.51      0.43      0.47        42\n",
            "           1       0.61      0.69      0.64        54\n",
            "\n",
            "    accuracy                           0.57        96\n",
            "   macro avg       0.56      0.56      0.56        96\n",
            "weighted avg       0.57      0.57      0.57        96\n",
            "\n"
          ]
        }
      ],
      "source": [
        "from sklearn.metrics import classification_report, confusion_matrix\n",
        "\n",
        "# Get the classification report as a dictionary\n",
        "report = classification_report(df['Irony (Yes/No)'], df['predicted_irony'], output_dict=True)\n",
        "\n",
        "# Calculate confusion matrix\n",
        "conf_matrix = confusion_matrix(df['Irony (Yes/No)'], df['predicted_irony'])\n",
        "tn, fp, fn, tp = conf_matrix.ravel()\n",
        "\n",
        "# Extract metrics\n",
        "precision = report['1']['precision']  # Precision for Ironic class\n",
        "recall = report['1']['recall']  # Recall for Ironic class (Sensitivity)\n",
        "specificity = tn / (tn + fp)  # Specificity (True Negative Rate)\n",
        "accuracy = report['accuracy']  # Overall accuracy\n",
        "\n",
        "# Print the metrics\n",
        "# precision: Out of all the proverbs the model predicted as ironic, what proportion was actually ironic?\n",
        "print(f\"Precision: {precision:.4f}\")\n",
        "#recall/sensitivity: Out of all the proverbs that were actually ironic, what proportion did the model correctly identify as ironic?\n",
        "print(f\"Recall (Sensitivity): {recall:.4f}\")\n",
        "#specifity: Out of all the proverbs that were actually not ironic, what proportion did the model correctly identify as not ironic?\n",
        "print(f\"Specificity: {specificity:.4f}\")\n",
        "print(f\"Accuracy: {accuracy:.4f}\")\n",
        "\n",
        "# Print the overall report for reference\n",
        "print(classification_report(df['Irony (Yes/No)'], df['predicted_irony']))"
      ]
    }
  ],
  "metadata": {
    "colab": {
      "provenance": []
    },
    "kernelspec": {
      "display_name": "Python 3",
      "name": "python3"
    },
    "language_info": {
      "codemirror_mode": {
        "name": "ipython",
        "version": 3
      },
      "file_extension": ".py",
      "mimetype": "text/x-python",
      "name": "python",
      "nbconvert_exporter": "python",
      "pygments_lexer": "ipython3",
      "version": "3.12.2"
    }
  },
  "nbformat": 4,
  "nbformat_minor": 0
}
